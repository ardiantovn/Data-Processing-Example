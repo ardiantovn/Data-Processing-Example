{
 "cells": [
  {
   "cell_type": "markdown",
   "metadata": {},
   "source": [
    "<h1><center>CODE</center></h1>"
   ]
  },
  {
   "cell_type": "markdown",
   "metadata": {},
   "source": [
    "<center>author : github.com/nugrohoav</center>"
   ]
  },
  {
   "cell_type": "code",
   "execution_count": null,
   "metadata": {},
   "outputs": [],
   "source": [
    "import pandas as pd\n",
    "import re\n",
    "\n",
    "#ClEAN CHAR IN A SENTENCE\n",
    "def cleanChar(row):\n",
    "    row=row.lower().split()\n",
    "    row=[re.sub(r'\\?|\\n|>|<|,|-|\\.|$|~|`|!|\\$|\\%|\\^|\\&|\\*|\\(|\\)|\\+|\\=|\\{|\\}|\\;|\\:|\\_|\\[|]|\\||\\\"|\\'|\\...', '', c) if 'http' not in c else c for c in row]\n",
    "    row=' '.join(row)\n",
    "    return row\n",
    "\n",
    "#GET a list of 1 Word\n",
    "def word1(row):\n",
    "    row=row.lower().split()\n",
    "    return row\n",
    "\n",
    "#Get a list of a pair of 2 words\n",
    "def word2(row):\n",
    "    N=2\n",
    "    row=row.lower().split()\n",
    "    row=[' '.join([row[i],row[i+(N-1)]]) for i in range(len(row)-(N-1))]\n",
    "    return row\n",
    "\n",
    "#Get a list of a pair of 3 words\n",
    "def word3(row):\n",
    "    N=3\n",
    "    row=row.lower().split()\n",
    "    row=[' '.join([row[i],row[i+(N-2)],row[i+(N-1)]]) for i in range(len(row)-(N-1))]\n",
    "    return row"
   ]
  },
  {
   "cell_type": "markdown",
   "metadata": {},
   "source": [
    "<h1><center>DATAFRAME DEFINITION</center></h1>"
   ]
  },
  {
   "cell_type": "code",
   "execution_count": 21,
   "metadata": {},
   "outputs": [
    {
     "data": {
      "text/html": [
       "<div>\n",
       "<style scoped>\n",
       "    .dataframe tbody tr th:only-of-type {\n",
       "        vertical-align: middle;\n",
       "    }\n",
       "\n",
       "    .dataframe tbody tr th {\n",
       "        vertical-align: top;\n",
       "    }\n",
       "\n",
       "    .dataframe thead th {\n",
       "        text-align: right;\n",
       "    }\n",
       "</style>\n",
       "<table border=\"1\" class=\"dataframe\">\n",
       "  <thead>\n",
       "    <tr style=\"text-align: right;\">\n",
       "      <th></th>\n",
       "      <th>text</th>\n",
       "    </tr>\n",
       "  </thead>\n",
       "  <tbody>\n",
       "    <tr>\n",
       "      <th>0</th>\n",
       "      <td>This is first test...</td>\n",
       "    </tr>\n",
       "    <tr>\n",
       "      <th>1</th>\n",
       "      <td>This - is - second - test</td>\n",
       "    </tr>\n",
       "    <tr>\n",
       "      <th>2</th>\n",
       "      <td>?This is, third test?</td>\n",
       "    </tr>\n",
       "  </tbody>\n",
       "</table>\n",
       "</div>"
      ],
      "text/plain": [
       "                        text\n",
       "0      This is first test...\n",
       "1  This - is - second - test\n",
       "2      ?This is, third test?"
      ]
     },
     "execution_count": 21,
     "metadata": {},
     "output_type": "execute_result"
    }
   ],
   "source": [
    "# initialize list of lists \n",
    "data = [['This is first test...'], ['This - is - second - test'], ['?This is, third test?']] \n",
    "# Create the pandas DataFrame \n",
    "df = pd.DataFrame(data, columns = ['text']) \n",
    "df"
   ]
  },
  {
   "cell_type": "markdown",
   "metadata": {},
   "source": [
    "<h1><center>CLEAN TEXT</center></h1>"
   ]
  },
  {
   "cell_type": "code",
   "execution_count": 24,
   "metadata": {},
   "outputs": [
    {
     "data": {
      "text/html": [
       "<div>\n",
       "<style scoped>\n",
       "    .dataframe tbody tr th:only-of-type {\n",
       "        vertical-align: middle;\n",
       "    }\n",
       "\n",
       "    .dataframe tbody tr th {\n",
       "        vertical-align: top;\n",
       "    }\n",
       "\n",
       "    .dataframe thead th {\n",
       "        text-align: right;\n",
       "    }\n",
       "</style>\n",
       "<table border=\"1\" class=\"dataframe\">\n",
       "  <thead>\n",
       "    <tr style=\"text-align: right;\">\n",
       "      <th></th>\n",
       "      <th>text</th>\n",
       "      <th>text_clean</th>\n",
       "    </tr>\n",
       "  </thead>\n",
       "  <tbody>\n",
       "    <tr>\n",
       "      <th>0</th>\n",
       "      <td>This is first test...</td>\n",
       "      <td>this is first test</td>\n",
       "    </tr>\n",
       "    <tr>\n",
       "      <th>1</th>\n",
       "      <td>This - is - second - test</td>\n",
       "      <td>this  is  second  test</td>\n",
       "    </tr>\n",
       "    <tr>\n",
       "      <th>2</th>\n",
       "      <td>?This is, third test?</td>\n",
       "      <td>this is third test</td>\n",
       "    </tr>\n",
       "  </tbody>\n",
       "</table>\n",
       "</div>"
      ],
      "text/plain": [
       "                        text              text_clean\n",
       "0      This is first test...      this is first test\n",
       "1  This - is - second - test  this  is  second  test\n",
       "2      ?This is, third test?      this is third test"
      ]
     },
     "execution_count": 24,
     "metadata": {},
     "output_type": "execute_result"
    }
   ],
   "source": [
    "df['text_clean']=df['text'].apply(cleanChar)\n",
    "df"
   ]
  },
  {
   "cell_type": "markdown",
   "metadata": {},
   "source": [
    "<h1><center>EXTRACT WORDS</center></h1>"
   ]
  },
  {
   "cell_type": "code",
   "execution_count": 26,
   "metadata": {},
   "outputs": [
    {
     "data": {
      "text/html": [
       "<div>\n",
       "<style scoped>\n",
       "    .dataframe tbody tr th:only-of-type {\n",
       "        vertical-align: middle;\n",
       "    }\n",
       "\n",
       "    .dataframe tbody tr th {\n",
       "        vertical-align: top;\n",
       "    }\n",
       "\n",
       "    .dataframe thead th {\n",
       "        text-align: right;\n",
       "    }\n",
       "</style>\n",
       "<table border=\"1\" class=\"dataframe\">\n",
       "  <thead>\n",
       "    <tr style=\"text-align: right;\">\n",
       "      <th></th>\n",
       "      <th>text</th>\n",
       "      <th>text_clean</th>\n",
       "      <th>text_1</th>\n",
       "      <th>text_2</th>\n",
       "      <th>text_3</th>\n",
       "    </tr>\n",
       "  </thead>\n",
       "  <tbody>\n",
       "    <tr>\n",
       "      <th>0</th>\n",
       "      <td>This is first test...</td>\n",
       "      <td>this is first test</td>\n",
       "      <td>[this, is, first, test]</td>\n",
       "      <td>[this is, is first, first test]</td>\n",
       "      <td>[this is first, is first test]</td>\n",
       "    </tr>\n",
       "    <tr>\n",
       "      <th>1</th>\n",
       "      <td>This - is - second - test</td>\n",
       "      <td>this  is  second  test</td>\n",
       "      <td>[this, is, second, test]</td>\n",
       "      <td>[this is, is second, second test]</td>\n",
       "      <td>[this is second, is second test]</td>\n",
       "    </tr>\n",
       "    <tr>\n",
       "      <th>2</th>\n",
       "      <td>?This is, third test?</td>\n",
       "      <td>this is third test</td>\n",
       "      <td>[this, is, third, test]</td>\n",
       "      <td>[this is, is third, third test]</td>\n",
       "      <td>[this is third, is third test]</td>\n",
       "    </tr>\n",
       "  </tbody>\n",
       "</table>\n",
       "</div>"
      ],
      "text/plain": [
       "                        text              text_clean  \\\n",
       "0      This is first test...      this is first test   \n",
       "1  This - is - second - test  this  is  second  test   \n",
       "2      ?This is, third test?      this is third test   \n",
       "\n",
       "                     text_1                             text_2  \\\n",
       "0   [this, is, first, test]    [this is, is first, first test]   \n",
       "1  [this, is, second, test]  [this is, is second, second test]   \n",
       "2   [this, is, third, test]    [this is, is third, third test]   \n",
       "\n",
       "                             text_3  \n",
       "0    [this is first, is first test]  \n",
       "1  [this is second, is second test]  \n",
       "2    [this is third, is third test]  "
      ]
     },
     "execution_count": 26,
     "metadata": {},
     "output_type": "execute_result"
    }
   ],
   "source": [
    "df['text_1']=df['text_clean'].apply(word1)\n",
    "df['text_2']=df['text_clean'].apply(word2)\n",
    "df['text_3']=df['text_clean'].apply(word3)\n",
    "df"
   ]
  }
 ],
 "metadata": {
  "kernelspec": {
   "display_name": "Python 3",
   "language": "python",
   "name": "python3"
  },
  "language_info": {
   "codemirror_mode": {
    "name": "ipython",
    "version": 3
   },
   "file_extension": ".py",
   "mimetype": "text/x-python",
   "name": "python",
   "nbconvert_exporter": "python",
   "pygments_lexer": "ipython3",
   "version": "3.7.3"
  }
 },
 "nbformat": 4,
 "nbformat_minor": 2
}
